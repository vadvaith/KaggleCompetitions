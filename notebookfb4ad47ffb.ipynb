{
 "cells": [
  {
   "cell_type": "code",
   "execution_count": 1,
   "id": "bf63e989",
   "metadata": {
    "_cell_guid": "b1076dfc-b9ad-4769-8c92-a6c4dae69d19",
    "_uuid": "8f2839f25d086af736a60e9eeb907d3b93b6e0e5",
    "execution": {
     "iopub.execute_input": "2023-07-13T10:12:41.642636Z",
     "iopub.status.busy": "2023-07-13T10:12:41.642244Z",
     "iopub.status.idle": "2023-07-13T10:12:41.652756Z",
     "shell.execute_reply": "2023-07-13T10:12:41.651823Z"
    },
    "papermill": {
     "duration": 0.020076,
     "end_time": "2023-07-13T10:12:41.655477",
     "exception": false,
     "start_time": "2023-07-13T10:12:41.635401",
     "status": "completed"
    },
    "tags": []
   },
   "outputs": [],
   "source": [
    "# This Python 3 environment comes with many helpful analytics libraries installed\n",
    "# It is defined by the kaggle/python Docker image: https://github.com/kaggle/docker-python\n",
    "# For example, here's several helpful packages to load\n",
    "\n",
    "import numpy as np # linear algebra\n",
    "import pandas as pd # data processing, CSV file I/O (e.g. pd.read_csv)\n",
    "\n",
    "# Input data files are available in the read-only \"../input/\" directory\n",
    "# For example, running this (by clicking run or pressing Shift+Enter) will list all files under the input directory\n",
    "\n",
    "# import os\n",
    "# for dirname, _, filenames in os.walk('/kaggle/input'):\n",
    "#     for filename in filenames:\n",
    "#         print(os.path.join(dirname, filename))\n",
    "\n",
    "# You can write up to 20GB to the current directory (/kaggle/working/) that gets preserved as output when you create a version using \"Save & Run All\" \n",
    "# You can also write temporary files to /kaggle/temp/, but they won't be saved outside of the current session"
   ]
  },
  {
   "cell_type": "code",
   "execution_count": 2,
   "id": "0ffd0049",
   "metadata": {
    "execution": {
     "iopub.execute_input": "2023-07-13T10:12:41.670204Z",
     "iopub.status.busy": "2023-07-13T10:12:41.669790Z",
     "iopub.status.idle": "2023-07-13T10:12:41.711056Z",
     "shell.execute_reply": "2023-07-13T10:12:41.709911Z"
    },
    "papermill": {
     "duration": 0.051558,
     "end_time": "2023-07-13T10:12:41.713600",
     "exception": false,
     "start_time": "2023-07-13T10:12:41.662042",
     "status": "completed"
    },
    "tags": []
   },
   "outputs": [],
   "source": [
    "df = pd.read_csv('/kaggle/input/icr-identify-age-related-conditions/train.csv')\n",
    "df_test = pd.read_csv('/kaggle/input/icr-identify-age-related-conditions/test.csv')"
   ]
  },
  {
   "cell_type": "code",
   "execution_count": 3,
   "id": "b4db738f",
   "metadata": {
    "execution": {
     "iopub.execute_input": "2023-07-13T10:12:41.724443Z",
     "iopub.status.busy": "2023-07-13T10:12:41.723682Z",
     "iopub.status.idle": "2023-07-13T10:12:41.762216Z",
     "shell.execute_reply": "2023-07-13T10:12:41.761227Z"
    },
    "papermill": {
     "duration": 0.046859,
     "end_time": "2023-07-13T10:12:41.764886",
     "exception": false,
     "start_time": "2023-07-13T10:12:41.718027",
     "status": "completed"
    },
    "tags": []
   },
   "outputs": [
    {
     "data": {
      "text/html": [
       "<div>\n",
       "<style scoped>\n",
       "    .dataframe tbody tr th:only-of-type {\n",
       "        vertical-align: middle;\n",
       "    }\n",
       "\n",
       "    .dataframe tbody tr th {\n",
       "        vertical-align: top;\n",
       "    }\n",
       "\n",
       "    .dataframe thead th {\n",
       "        text-align: right;\n",
       "    }\n",
       "</style>\n",
       "<table border=\"1\" class=\"dataframe\">\n",
       "  <thead>\n",
       "    <tr style=\"text-align: right;\">\n",
       "      <th></th>\n",
       "      <th>Id</th>\n",
       "      <th>AB</th>\n",
       "      <th>AF</th>\n",
       "      <th>AH</th>\n",
       "      <th>AM</th>\n",
       "      <th>AR</th>\n",
       "      <th>AX</th>\n",
       "      <th>AY</th>\n",
       "      <th>AZ</th>\n",
       "      <th>BC</th>\n",
       "      <th>...</th>\n",
       "      <th>FL</th>\n",
       "      <th>FR</th>\n",
       "      <th>FS</th>\n",
       "      <th>GB</th>\n",
       "      <th>GE</th>\n",
       "      <th>GF</th>\n",
       "      <th>GH</th>\n",
       "      <th>GI</th>\n",
       "      <th>GL</th>\n",
       "      <th>Class</th>\n",
       "    </tr>\n",
       "  </thead>\n",
       "  <tbody>\n",
       "    <tr>\n",
       "      <th>0</th>\n",
       "      <td>000ff2bfdfe9</td>\n",
       "      <td>0.209377</td>\n",
       "      <td>3109.03329</td>\n",
       "      <td>85.200147</td>\n",
       "      <td>22.394407</td>\n",
       "      <td>8.138688</td>\n",
       "      <td>0.699861</td>\n",
       "      <td>0.025578</td>\n",
       "      <td>9.812214</td>\n",
       "      <td>5.555634</td>\n",
       "      <td>...</td>\n",
       "      <td>7.298162</td>\n",
       "      <td>1.73855</td>\n",
       "      <td>0.094822</td>\n",
       "      <td>11.339138</td>\n",
       "      <td>72.611063</td>\n",
       "      <td>2003.810319</td>\n",
       "      <td>22.136229</td>\n",
       "      <td>69.834944</td>\n",
       "      <td>0.120343</td>\n",
       "      <td>1</td>\n",
       "    </tr>\n",
       "    <tr>\n",
       "      <th>1</th>\n",
       "      <td>007255e47698</td>\n",
       "      <td>0.145282</td>\n",
       "      <td>978.76416</td>\n",
       "      <td>85.200147</td>\n",
       "      <td>36.968889</td>\n",
       "      <td>8.138688</td>\n",
       "      <td>3.632190</td>\n",
       "      <td>0.025578</td>\n",
       "      <td>13.517790</td>\n",
       "      <td>1.229900</td>\n",
       "      <td>...</td>\n",
       "      <td>0.173229</td>\n",
       "      <td>0.49706</td>\n",
       "      <td>0.568932</td>\n",
       "      <td>9.292698</td>\n",
       "      <td>72.611063</td>\n",
       "      <td>27981.562750</td>\n",
       "      <td>29.135430</td>\n",
       "      <td>32.131996</td>\n",
       "      <td>21.978000</td>\n",
       "      <td>0</td>\n",
       "    </tr>\n",
       "    <tr>\n",
       "      <th>2</th>\n",
       "      <td>013f2bd269f5</td>\n",
       "      <td>0.470030</td>\n",
       "      <td>2635.10654</td>\n",
       "      <td>85.200147</td>\n",
       "      <td>32.360553</td>\n",
       "      <td>8.138688</td>\n",
       "      <td>6.732840</td>\n",
       "      <td>0.025578</td>\n",
       "      <td>12.824570</td>\n",
       "      <td>1.229900</td>\n",
       "      <td>...</td>\n",
       "      <td>7.709560</td>\n",
       "      <td>0.97556</td>\n",
       "      <td>1.198821</td>\n",
       "      <td>37.077772</td>\n",
       "      <td>88.609437</td>\n",
       "      <td>13676.957810</td>\n",
       "      <td>28.022851</td>\n",
       "      <td>35.192676</td>\n",
       "      <td>0.196941</td>\n",
       "      <td>0</td>\n",
       "    </tr>\n",
       "    <tr>\n",
       "      <th>3</th>\n",
       "      <td>043ac50845d5</td>\n",
       "      <td>0.252107</td>\n",
       "      <td>3819.65177</td>\n",
       "      <td>120.201618</td>\n",
       "      <td>77.112203</td>\n",
       "      <td>8.138688</td>\n",
       "      <td>3.685344</td>\n",
       "      <td>0.025578</td>\n",
       "      <td>11.053708</td>\n",
       "      <td>1.229900</td>\n",
       "      <td>...</td>\n",
       "      <td>6.122162</td>\n",
       "      <td>0.49706</td>\n",
       "      <td>0.284466</td>\n",
       "      <td>18.529584</td>\n",
       "      <td>82.416803</td>\n",
       "      <td>2094.262452</td>\n",
       "      <td>39.948656</td>\n",
       "      <td>90.493248</td>\n",
       "      <td>0.155829</td>\n",
       "      <td>0</td>\n",
       "    </tr>\n",
       "    <tr>\n",
       "      <th>4</th>\n",
       "      <td>044fb8a146ec</td>\n",
       "      <td>0.380297</td>\n",
       "      <td>3733.04844</td>\n",
       "      <td>85.200147</td>\n",
       "      <td>14.103738</td>\n",
       "      <td>8.138688</td>\n",
       "      <td>3.942255</td>\n",
       "      <td>0.054810</td>\n",
       "      <td>3.396778</td>\n",
       "      <td>102.151980</td>\n",
       "      <td>...</td>\n",
       "      <td>8.153058</td>\n",
       "      <td>48.50134</td>\n",
       "      <td>0.121914</td>\n",
       "      <td>16.408728</td>\n",
       "      <td>146.109943</td>\n",
       "      <td>8524.370502</td>\n",
       "      <td>45.381316</td>\n",
       "      <td>36.262628</td>\n",
       "      <td>0.096614</td>\n",
       "      <td>1</td>\n",
       "    </tr>\n",
       "  </tbody>\n",
       "</table>\n",
       "<p>5 rows × 58 columns</p>\n",
       "</div>"
      ],
      "text/plain": [
       "             Id        AB          AF          AH         AM        AR  \\\n",
       "0  000ff2bfdfe9  0.209377  3109.03329   85.200147  22.394407  8.138688   \n",
       "1  007255e47698  0.145282   978.76416   85.200147  36.968889  8.138688   \n",
       "2  013f2bd269f5  0.470030  2635.10654   85.200147  32.360553  8.138688   \n",
       "3  043ac50845d5  0.252107  3819.65177  120.201618  77.112203  8.138688   \n",
       "4  044fb8a146ec  0.380297  3733.04844   85.200147  14.103738  8.138688   \n",
       "\n",
       "         AX        AY         AZ          BC  ...        FL        FR  \\\n",
       "0  0.699861  0.025578   9.812214    5.555634  ...  7.298162   1.73855   \n",
       "1  3.632190  0.025578  13.517790    1.229900  ...  0.173229   0.49706   \n",
       "2  6.732840  0.025578  12.824570    1.229900  ...  7.709560   0.97556   \n",
       "3  3.685344  0.025578  11.053708    1.229900  ...  6.122162   0.49706   \n",
       "4  3.942255  0.054810   3.396778  102.151980  ...  8.153058  48.50134   \n",
       "\n",
       "         FS         GB          GE            GF         GH         GI  \\\n",
       "0  0.094822  11.339138   72.611063   2003.810319  22.136229  69.834944   \n",
       "1  0.568932   9.292698   72.611063  27981.562750  29.135430  32.131996   \n",
       "2  1.198821  37.077772   88.609437  13676.957810  28.022851  35.192676   \n",
       "3  0.284466  18.529584   82.416803   2094.262452  39.948656  90.493248   \n",
       "4  0.121914  16.408728  146.109943   8524.370502  45.381316  36.262628   \n",
       "\n",
       "          GL  Class  \n",
       "0   0.120343      1  \n",
       "1  21.978000      0  \n",
       "2   0.196941      0  \n",
       "3   0.155829      0  \n",
       "4   0.096614      1  \n",
       "\n",
       "[5 rows x 58 columns]"
      ]
     },
     "execution_count": 3,
     "metadata": {},
     "output_type": "execute_result"
    }
   ],
   "source": [
    "df.head()"
   ]
  },
  {
   "cell_type": "code",
   "execution_count": 4,
   "id": "0dd3280f",
   "metadata": {
    "execution": {
     "iopub.execute_input": "2023-07-13T10:12:41.776483Z",
     "iopub.status.busy": "2023-07-13T10:12:41.775875Z",
     "iopub.status.idle": "2023-07-13T10:12:42.928418Z",
     "shell.execute_reply": "2023-07-13T10:12:42.927234Z"
    },
    "papermill": {
     "duration": 1.161683,
     "end_time": "2023-07-13T10:12:42.931118",
     "exception": false,
     "start_time": "2023-07-13T10:12:41.769435",
     "status": "completed"
    },
    "tags": []
   },
   "outputs": [
    {
     "name": "stderr",
     "output_type": "stream",
     "text": [
      "/opt/conda/lib/python3.10/site-packages/scipy/__init__.py:146: UserWarning: A NumPy version >=1.16.5 and <1.23.0 is required for this version of SciPy (detected version 1.23.5\n",
      "  warnings.warn(f\"A NumPy version >={np_minversion} and <{np_maxversion}\"\n"
     ]
    }
   ],
   "source": [
    "from sklearn import preprocessing\n",
    "  \n",
    "# label_encoder object knows \n",
    "# how to understand word labels.\n",
    "label_encoder = preprocessing.LabelEncoder()\n",
    "df['EJ']= label_encoder.fit_transform(df['EJ'])\n",
    "# Encode labels in column 'species'.\n",
    "#df = pd.get_dummies(df, columns = ['EJ'])"
   ]
  },
  {
   "cell_type": "code",
   "execution_count": 5,
   "id": "5943091a",
   "metadata": {
    "execution": {
     "iopub.execute_input": "2023-07-13T10:12:42.941990Z",
     "iopub.status.busy": "2023-07-13T10:12:42.941563Z",
     "iopub.status.idle": "2023-07-13T10:12:43.367033Z",
     "shell.execute_reply": "2023-07-13T10:12:43.365939Z"
    },
    "papermill": {
     "duration": 0.433897,
     "end_time": "2023-07-13T10:12:43.369623",
     "exception": false,
     "start_time": "2023-07-13T10:12:42.935726",
     "status": "completed"
    },
    "tags": []
   },
   "outputs": [],
   "source": [
    "from sklearn.impute import KNNImputer\n",
    "imp = KNNImputer()\n",
    "df[\"GL\"] = imp.fit_transform(df[[\"GL\"]]).ravel()\n",
    "df[\"FS\"] = imp.fit_transform(df[[\"FS\"]]).ravel()\n",
    "df[\"FL\"] = imp.fit_transform(df[[\"FL\"]]).ravel()\n",
    "df[\"FC\"] = imp.fit_transform(df[[\"FC\"]]).ravel()\n",
    "df[\"EL\"] = imp.fit_transform(df[[\"EL\"]]).ravel()\n",
    "df[\"DU\"] = imp.fit_transform(df[[\"DU\"]]).ravel()\n",
    "df[\"CB\"] = imp.fit_transform(df[[\"CB\"]]).ravel()\n",
    "df[\"CC\"] = imp.fit_transform(df[[\"CC\"]]).ravel()\n",
    "df[\"BQ\"] = imp.fit_transform(df[[\"BQ\"]]).ravel()\n"
   ]
  },
  {
   "cell_type": "code",
   "execution_count": 6,
   "id": "b7fa9b5b",
   "metadata": {
    "execution": {
     "iopub.execute_input": "2023-07-13T10:12:43.380864Z",
     "iopub.status.busy": "2023-07-13T10:12:43.380467Z",
     "iopub.status.idle": "2023-07-13T10:12:43.390373Z",
     "shell.execute_reply": "2023-07-13T10:12:43.389230Z"
    },
    "papermill": {
     "duration": 0.0189,
     "end_time": "2023-07-13T10:12:43.393026",
     "exception": false,
     "start_time": "2023-07-13T10:12:43.374126",
     "status": "completed"
    },
    "tags": []
   },
   "outputs": [],
   "source": [
    "X = df.loc[:, df.columns != 'Class']\n",
    "y = df.loc[:, df.columns == 'Class']\n",
    "X=X.drop(['Id'],axis=1)\n",
    "from sklearn.model_selection import train_test_split\n",
    "X_train, X_test, y_train, y_test = train_test_split(X, y, test_size=0.2)"
   ]
  },
  {
   "cell_type": "code",
   "execution_count": 7,
   "id": "4aa19e53",
   "metadata": {
    "execution": {
     "iopub.execute_input": "2023-07-13T10:12:43.403729Z",
     "iopub.status.busy": "2023-07-13T10:12:43.403329Z",
     "iopub.status.idle": "2023-07-13T10:12:43.782314Z",
     "shell.execute_reply": "2023-07-13T10:12:43.781064Z"
    },
    "papermill": {
     "duration": 0.387931,
     "end_time": "2023-07-13T10:12:43.785473",
     "exception": false,
     "start_time": "2023-07-13T10:12:43.397542",
     "status": "completed"
    },
    "tags": []
   },
   "outputs": [
    {
     "data": {
      "text/html": [
       "<style>#sk-container-id-1 {color: black;background-color: white;}#sk-container-id-1 pre{padding: 0;}#sk-container-id-1 div.sk-toggleable {background-color: white;}#sk-container-id-1 label.sk-toggleable__label {cursor: pointer;display: block;width: 100%;margin-bottom: 0;padding: 0.3em;box-sizing: border-box;text-align: center;}#sk-container-id-1 label.sk-toggleable__label-arrow:before {content: \"▸\";float: left;margin-right: 0.25em;color: #696969;}#sk-container-id-1 label.sk-toggleable__label-arrow:hover:before {color: black;}#sk-container-id-1 div.sk-estimator:hover label.sk-toggleable__label-arrow:before {color: black;}#sk-container-id-1 div.sk-toggleable__content {max-height: 0;max-width: 0;overflow: hidden;text-align: left;background-color: #f0f8ff;}#sk-container-id-1 div.sk-toggleable__content pre {margin: 0.2em;color: black;border-radius: 0.25em;background-color: #f0f8ff;}#sk-container-id-1 input.sk-toggleable__control:checked~div.sk-toggleable__content {max-height: 200px;max-width: 100%;overflow: auto;}#sk-container-id-1 input.sk-toggleable__control:checked~label.sk-toggleable__label-arrow:before {content: \"▾\";}#sk-container-id-1 div.sk-estimator input.sk-toggleable__control:checked~label.sk-toggleable__label {background-color: #d4ebff;}#sk-container-id-1 div.sk-label input.sk-toggleable__control:checked~label.sk-toggleable__label {background-color: #d4ebff;}#sk-container-id-1 input.sk-hidden--visually {border: 0;clip: rect(1px 1px 1px 1px);clip: rect(1px, 1px, 1px, 1px);height: 1px;margin: -1px;overflow: hidden;padding: 0;position: absolute;width: 1px;}#sk-container-id-1 div.sk-estimator {font-family: monospace;background-color: #f0f8ff;border: 1px dotted black;border-radius: 0.25em;box-sizing: border-box;margin-bottom: 0.5em;}#sk-container-id-1 div.sk-estimator:hover {background-color: #d4ebff;}#sk-container-id-1 div.sk-parallel-item::after {content: \"\";width: 100%;border-bottom: 1px solid gray;flex-grow: 1;}#sk-container-id-1 div.sk-label:hover label.sk-toggleable__label {background-color: #d4ebff;}#sk-container-id-1 div.sk-serial::before {content: \"\";position: absolute;border-left: 1px solid gray;box-sizing: border-box;top: 0;bottom: 0;left: 50%;z-index: 0;}#sk-container-id-1 div.sk-serial {display: flex;flex-direction: column;align-items: center;background-color: white;padding-right: 0.2em;padding-left: 0.2em;position: relative;}#sk-container-id-1 div.sk-item {position: relative;z-index: 1;}#sk-container-id-1 div.sk-parallel {display: flex;align-items: stretch;justify-content: center;background-color: white;position: relative;}#sk-container-id-1 div.sk-item::before, #sk-container-id-1 div.sk-parallel-item::before {content: \"\";position: absolute;border-left: 1px solid gray;box-sizing: border-box;top: 0;bottom: 0;left: 50%;z-index: -1;}#sk-container-id-1 div.sk-parallel-item {display: flex;flex-direction: column;z-index: 1;position: relative;background-color: white;}#sk-container-id-1 div.sk-parallel-item:first-child::after {align-self: flex-end;width: 50%;}#sk-container-id-1 div.sk-parallel-item:last-child::after {align-self: flex-start;width: 50%;}#sk-container-id-1 div.sk-parallel-item:only-child::after {width: 0;}#sk-container-id-1 div.sk-dashed-wrapped {border: 1px dashed gray;margin: 0 0.4em 0.5em 0.4em;box-sizing: border-box;padding-bottom: 0.4em;background-color: white;}#sk-container-id-1 div.sk-label label {font-family: monospace;font-weight: bold;display: inline-block;line-height: 1.2em;}#sk-container-id-1 div.sk-label-container {text-align: center;}#sk-container-id-1 div.sk-container {/* jupyter's `normalize.less` sets `[hidden] { display: none; }` but bootstrap.min.css set `[hidden] { display: none !important; }` so we also need the `!important` here to be able to override the default hidden behavior on the sphinx rendered scikit-learn.org. See: https://github.com/scikit-learn/scikit-learn/issues/21755 */display: inline-block !important;position: relative;}#sk-container-id-1 div.sk-text-repr-fallback {display: none;}</style><div id=\"sk-container-id-1\" class=\"sk-top-container\"><div class=\"sk-text-repr-fallback\"><pre>XGBClassifier(base_score=None, booster=None, callbacks=None,\n",
       "              colsample_bylevel=None, colsample_bynode=None,\n",
       "              colsample_bytree=None, early_stopping_rounds=None,\n",
       "              enable_categorical=False, eval_metric=None, feature_types=None,\n",
       "              gamma=None, gpu_id=None, grow_policy=None, importance_type=None,\n",
       "              interaction_constraints=None, learning_rate=None, max_bin=None,\n",
       "              max_cat_threshold=None, max_cat_to_onehot=None,\n",
       "              max_delta_step=None, max_depth=None, max_leaves=None,\n",
       "              min_child_weight=None, missing=nan, monotone_constraints=None,\n",
       "              n_estimators=100, n_jobs=None, num_parallel_tree=None,\n",
       "              predictor=None, random_state=None, ...)</pre><b>In a Jupyter environment, please rerun this cell to show the HTML representation or trust the notebook. <br />On GitHub, the HTML representation is unable to render, please try loading this page with nbviewer.org.</b></div><div class=\"sk-container\" hidden><div class=\"sk-item\"><div class=\"sk-estimator sk-toggleable\"><input class=\"sk-toggleable__control sk-hidden--visually\" id=\"sk-estimator-id-1\" type=\"checkbox\" checked><label for=\"sk-estimator-id-1\" class=\"sk-toggleable__label sk-toggleable__label-arrow\">XGBClassifier</label><div class=\"sk-toggleable__content\"><pre>XGBClassifier(base_score=None, booster=None, callbacks=None,\n",
       "              colsample_bylevel=None, colsample_bynode=None,\n",
       "              colsample_bytree=None, early_stopping_rounds=None,\n",
       "              enable_categorical=False, eval_metric=None, feature_types=None,\n",
       "              gamma=None, gpu_id=None, grow_policy=None, importance_type=None,\n",
       "              interaction_constraints=None, learning_rate=None, max_bin=None,\n",
       "              max_cat_threshold=None, max_cat_to_onehot=None,\n",
       "              max_delta_step=None, max_depth=None, max_leaves=None,\n",
       "              min_child_weight=None, missing=nan, monotone_constraints=None,\n",
       "              n_estimators=100, n_jobs=None, num_parallel_tree=None,\n",
       "              predictor=None, random_state=None, ...)</pre></div></div></div></div></div>"
      ],
      "text/plain": [
       "XGBClassifier(base_score=None, booster=None, callbacks=None,\n",
       "              colsample_bylevel=None, colsample_bynode=None,\n",
       "              colsample_bytree=None, early_stopping_rounds=None,\n",
       "              enable_categorical=False, eval_metric=None, feature_types=None,\n",
       "              gamma=None, gpu_id=None, grow_policy=None, importance_type=None,\n",
       "              interaction_constraints=None, learning_rate=None, max_bin=None,\n",
       "              max_cat_threshold=None, max_cat_to_onehot=None,\n",
       "              max_delta_step=None, max_depth=None, max_leaves=None,\n",
       "              min_child_weight=None, missing=nan, monotone_constraints=None,\n",
       "              n_estimators=100, n_jobs=None, num_parallel_tree=None,\n",
       "              predictor=None, random_state=None, ...)"
      ]
     },
     "execution_count": 7,
     "metadata": {},
     "output_type": "execute_result"
    }
   ],
   "source": [
    "# from sklearn.linear_model import LogisticRegression\n",
    "# reg = LogisticRegression(solver='lbfgs',max_iter=3000)\n",
    "# reg.fit(X_train, y_train.values.ravel())\n",
    "# from sklearn.tree import DecisionTreeClassifier\n",
    "# dec_tree = DecisionTreeClassifier()\n",
    "# dec_tree.fit(X_train,y_train.values.ravel())\n",
    "import xgboost as xgb\n",
    "xgb= xgb.XGBClassifier(objective=\"binary:logistic\")\n",
    "xgb.fit(X_train, y_train)"
   ]
  },
  {
   "cell_type": "code",
   "execution_count": 8,
   "id": "873f342c",
   "metadata": {
    "execution": {
     "iopub.execute_input": "2023-07-13T10:12:43.798352Z",
     "iopub.status.busy": "2023-07-13T10:12:43.797953Z",
     "iopub.status.idle": "2023-07-13T10:12:43.804869Z",
     "shell.execute_reply": "2023-07-13T10:12:43.803483Z"
    },
    "papermill": {
     "duration": 0.015199,
     "end_time": "2023-07-13T10:12:43.807112",
     "exception": false,
     "start_time": "2023-07-13T10:12:43.791913",
     "status": "completed"
    },
    "tags": []
   },
   "outputs": [],
   "source": [
    "df_test=df_test.drop(['Id'],axis=1)\n",
    "df_test['EJ']= label_encoder.fit_transform(df_test['EJ'])\n",
    "#df_test = pd.get_dummies(df_test, columns = ['EJ'])\n",
    "#df_test['EJ_B']=0\n"
   ]
  },
  {
   "cell_type": "code",
   "execution_count": 9,
   "id": "db00f7a2",
   "metadata": {
    "execution": {
     "iopub.execute_input": "2023-07-13T10:12:43.818404Z",
     "iopub.status.busy": "2023-07-13T10:12:43.817992Z",
     "iopub.status.idle": "2023-07-13T10:12:43.822970Z",
     "shell.execute_reply": "2023-07-13T10:12:43.821727Z"
    },
    "papermill": {
     "duration": 0.013499,
     "end_time": "2023-07-13T10:12:43.825480",
     "exception": false,
     "start_time": "2023-07-13T10:12:43.811981",
     "status": "completed"
    },
    "tags": []
   },
   "outputs": [],
   "source": [
    "# df_test = df_test.drop(df_test.columns[unimp],axis = 1)"
   ]
  },
  {
   "cell_type": "code",
   "execution_count": 10,
   "id": "69acee64",
   "metadata": {
    "execution": {
     "iopub.execute_input": "2023-07-13T10:12:43.838194Z",
     "iopub.status.busy": "2023-07-13T10:12:43.837337Z",
     "iopub.status.idle": "2023-07-13T10:12:43.848473Z",
     "shell.execute_reply": "2023-07-13T10:12:43.847328Z"
    },
    "papermill": {
     "duration": 0.020561,
     "end_time": "2023-07-13T10:12:43.851419",
     "exception": false,
     "start_time": "2023-07-13T10:12:43.830858",
     "status": "completed"
    },
    "tags": []
   },
   "outputs": [],
   "source": [
    "preds=xgb.predict_proba(df_test)"
   ]
  },
  {
   "cell_type": "code",
   "execution_count": 11,
   "id": "8c5195a9",
   "metadata": {
    "execution": {
     "iopub.execute_input": "2023-07-13T10:12:43.862809Z",
     "iopub.status.busy": "2023-07-13T10:12:43.862336Z",
     "iopub.status.idle": "2023-07-13T10:12:43.869589Z",
     "shell.execute_reply": "2023-07-13T10:12:43.868440Z"
    },
    "papermill": {
     "duration": 0.015643,
     "end_time": "2023-07-13T10:12:43.871960",
     "exception": false,
     "start_time": "2023-07-13T10:12:43.856317",
     "status": "completed"
    },
    "tags": []
   },
   "outputs": [
    {
     "data": {
      "text/plain": [
       "array([[0.75388896, 0.24611104],\n",
       "       [0.75388896, 0.24611104],\n",
       "       [0.75388896, 0.24611104],\n",
       "       [0.75388896, 0.24611104],\n",
       "       [0.75388896, 0.24611104]], dtype=float32)"
      ]
     },
     "execution_count": 11,
     "metadata": {},
     "output_type": "execute_result"
    }
   ],
   "source": [
    "preds"
   ]
  },
  {
   "cell_type": "code",
   "execution_count": 12,
   "id": "57790476",
   "metadata": {
    "execution": {
     "iopub.execute_input": "2023-07-13T10:12:43.883706Z",
     "iopub.status.busy": "2023-07-13T10:12:43.883295Z",
     "iopub.status.idle": "2023-07-13T10:12:43.887572Z",
     "shell.execute_reply": "2023-07-13T10:12:43.886609Z"
    },
    "papermill": {
     "duration": 0.012871,
     "end_time": "2023-07-13T10:12:43.889702",
     "exception": false,
     "start_time": "2023-07-13T10:12:43.876831",
     "status": "completed"
    },
    "tags": []
   },
   "outputs": [],
   "source": [
    "# l=list(xgb.feature_importances_)\n",
    "# unimp=[]\n",
    "# for i in range(0,len(l)):\n",
    "#     if l[i]<0.01:\n",
    "#         unimp.append(i)\n",
    "# print(unimp)"
   ]
  },
  {
   "cell_type": "code",
   "execution_count": 13,
   "id": "57eb81c9",
   "metadata": {
    "execution": {
     "iopub.execute_input": "2023-07-13T10:12:43.901781Z",
     "iopub.status.busy": "2023-07-13T10:12:43.900656Z",
     "iopub.status.idle": "2023-07-13T10:12:43.905251Z",
     "shell.execute_reply": "2023-07-13T10:12:43.904404Z"
    },
    "papermill": {
     "duration": 0.012748,
     "end_time": "2023-07-13T10:12:43.907405",
     "exception": false,
     "start_time": "2023-07-13T10:12:43.894657",
     "status": "completed"
    },
    "tags": []
   },
   "outputs": [],
   "source": [
    "#df = df.drop(df.columns[unimp],axis = 1)"
   ]
  },
  {
   "cell_type": "code",
   "execution_count": 14,
   "id": "f84fdb0d",
   "metadata": {
    "execution": {
     "iopub.execute_input": "2023-07-13T10:12:43.919200Z",
     "iopub.status.busy": "2023-07-13T10:12:43.918481Z",
     "iopub.status.idle": "2023-07-13T10:12:43.934740Z",
     "shell.execute_reply": "2023-07-13T10:12:43.933028Z"
    },
    "papermill": {
     "duration": 0.025194,
     "end_time": "2023-07-13T10:12:43.937462",
     "exception": false,
     "start_time": "2023-07-13T10:12:43.912268",
     "status": "completed"
    },
    "tags": []
   },
   "outputs": [],
   "source": [
    "sub=pd.read_csv('/kaggle/input/icr-identify-age-related-conditions/sample_submission.csv')\n",
    "sub[['class_0','class_1']]=preds\n",
    "sub.to_csv('/kaggle/working/submission.csv',index=False)"
   ]
  }
 ],
 "metadata": {
  "kernelspec": {
   "display_name": "Python 3",
   "language": "python",
   "name": "python3"
  },
  "language_info": {
   "codemirror_mode": {
    "name": "ipython",
    "version": 3
   },
   "file_extension": ".py",
   "mimetype": "text/x-python",
   "name": "python",
   "nbconvert_exporter": "python",
   "pygments_lexer": "ipython3",
   "version": "3.10.12"
  },
  "papermill": {
   "default_parameters": {},
   "duration": 13.849685,
   "end_time": "2023-07-13T10:12:44.964762",
   "environment_variables": {},
   "exception": null,
   "input_path": "__notebook__.ipynb",
   "output_path": "__notebook__.ipynb",
   "parameters": {},
   "start_time": "2023-07-13T10:12:31.115077",
   "version": "2.4.0"
  }
 },
 "nbformat": 4,
 "nbformat_minor": 5
}
